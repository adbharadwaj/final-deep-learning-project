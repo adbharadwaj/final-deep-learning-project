{
 "cells": [
  {
   "cell_type": "code",
   "execution_count": 1,
   "metadata": {
    "collapsed": true
   },
   "outputs": [],
   "source": [
    "import tensorflow as tf\n",
    "import numpy as np\n",
    "import os\n",
    "import time\n",
    "import datetime\n",
    "from tensorflow.contrib import learn\n",
    "import pandas as pd"
   ]
  },
  {
   "cell_type": "code",
   "execution_count": 2,
   "metadata": {
    "collapsed": true
   },
   "outputs": [],
   "source": [
    "sentence_support_df = pd.read_csv('data/sentence_support_v3.tsv', delimiter='\\t')\n",
    "sentence_support_df.drop_duplicates(inplace=True)"
   ]
  },
  {
   "cell_type": "code",
   "execution_count": 6,
   "metadata": {
    "collapsed": false
   },
   "outputs": [
    {
     "data": {
      "text/html": [
       "<div>\n",
       "<style>\n",
       "    .dataframe thead tr:only-child th {\n",
       "        text-align: right;\n",
       "    }\n",
       "\n",
       "    .dataframe thead th {\n",
       "        text-align: left;\n",
       "    }\n",
       "\n",
       "    .dataframe tbody tr th {\n",
       "        vertical-align: top;\n",
       "    }\n",
       "</style>\n",
       "<table border=\"1\" class=\"dataframe\">\n",
       "  <thead>\n",
       "    <tr style=\"text-align: right;\">\n",
       "      <th></th>\n",
       "      <th>pathwayA</th>\n",
       "      <th>pathwayB</th>\n",
       "      <th>crosstalk</th>\n",
       "      <th>pmid</th>\n",
       "      <th>sentenceFromPaper</th>\n",
       "      <th>label</th>\n",
       "    </tr>\n",
       "  </thead>\n",
       "  <tbody>\n",
       "    <tr>\n",
       "      <th>0</th>\n",
       "      <td>Adipocytokine signaling pathway</td>\n",
       "      <td>ErbB signaling pathway</td>\n",
       "      <td>yes</td>\n",
       "      <td>23228483</td>\n",
       "      <td>In the present study, we demonstrate that lept...</td>\n",
       "      <td>1</td>\n",
       "    </tr>\n",
       "    <tr>\n",
       "      <th>1</th>\n",
       "      <td>Adipocytokine signaling pathway</td>\n",
       "      <td>ErbB signaling pathway</td>\n",
       "      <td>yes</td>\n",
       "      <td>18945363</td>\n",
       "      <td>In summary, our results suggest the existence ...</td>\n",
       "      <td>1</td>\n",
       "    </tr>\n",
       "    <tr>\n",
       "      <th>2</th>\n",
       "      <td>Adipocytokine signaling pathway</td>\n",
       "      <td>Estrogen signaling pathway</td>\n",
       "      <td>yes</td>\n",
       "      <td>20410173</td>\n",
       "      <td>These observations support the notion that the...</td>\n",
       "      <td>1</td>\n",
       "    </tr>\n",
       "    <tr>\n",
       "      <th>3</th>\n",
       "      <td>Adipocytokine signaling pathway</td>\n",
       "      <td>Estrogen signaling pathway</td>\n",
       "      <td>yes</td>\n",
       "      <td>23357303</td>\n",
       "      <td>The crosstalk between leptin and estrogen resc...</td>\n",
       "      <td>1</td>\n",
       "    </tr>\n",
       "    <tr>\n",
       "      <th>4</th>\n",
       "      <td>Adipocytokine signaling pathway</td>\n",
       "      <td>Estrogen signaling pathway</td>\n",
       "      <td>yes</td>\n",
       "      <td>22178935</td>\n",
       "      <td>The study supports the existence of a crosstal...</td>\n",
       "      <td>1</td>\n",
       "    </tr>\n",
       "  </tbody>\n",
       "</table>\n",
       "</div>"
      ],
      "text/plain": [
       "                          pathwayA                    pathwayB crosstalk  \\\n",
       "0  Adipocytokine signaling pathway      ErbB signaling pathway       yes   \n",
       "1  Adipocytokine signaling pathway      ErbB signaling pathway       yes   \n",
       "2  Adipocytokine signaling pathway  Estrogen signaling pathway       yes   \n",
       "3  Adipocytokine signaling pathway  Estrogen signaling pathway       yes   \n",
       "4  Adipocytokine signaling pathway  Estrogen signaling pathway       yes   \n",
       "\n",
       "       pmid                                  sentenceFromPaper  label  \n",
       "0  23228483  In the present study, we demonstrate that lept...      1  \n",
       "1  18945363  In summary, our results suggest the existence ...      1  \n",
       "2  20410173  These observations support the notion that the...      1  \n",
       "3  23357303  The crosstalk between leptin and estrogen resc...      1  \n",
       "4  22178935  The study supports the existence of a crosstal...      1  "
      ]
     },
     "execution_count": 6,
     "metadata": {},
     "output_type": "execute_result"
    }
   ],
   "source": [
    "sentence_support_df.head()"
   ]
  },
  {
   "cell_type": "code",
   "execution_count": 3,
   "metadata": {
    "collapsed": false
   },
   "outputs": [
    {
     "data": {
      "text/plain": [
       "(42394, 6)"
      ]
     },
     "execution_count": 3,
     "metadata": {},
     "output_type": "execute_result"
    }
   ],
   "source": [
    "sentence_support_df.shape"
   ]
  },
  {
   "cell_type": "code",
   "execution_count": 4,
   "metadata": {
    "collapsed": true
   },
   "outputs": [],
   "source": [
    "from sklearn.model_selection import KFold\n",
    "kf = KFold(n_splits=4, random_state=5, shuffle=True)"
   ]
  },
  {
   "cell_type": "code",
   "execution_count": 11,
   "metadata": {
    "collapsed": false
   },
   "outputs": [
    {
     "name": "stdout",
     "output_type": "stream",
     "text": [
      "TRAIN: [    0     1     2 ..., 42391 42392 42393] TEST: [    3     5     9 ..., 42379 42387 42390]\n",
      "TRAIN: [    0     2     3 ..., 42389 42390 42392] TEST: [    1     6     7 ..., 42388 42391 42393]\n",
      "TRAIN: [    1     2     3 ..., 42391 42392 42393] TEST: [    0    11    15 ..., 42383 42385 42386]\n",
      "TRAIN: [    0     1     3 ..., 42390 42391 42393] TEST: [    2     4    10 ..., 42384 42389 42392]\n"
     ]
    }
   ],
   "source": [
    "for train_index, test_index in kf.split(sentence_support_df):\n",
    "    print(\"TRAIN:\", train_index, \"TEST:\", test_index)\n",
    "#    X_train, X_test = X[train_index], X[test_index]"
   ]
  },
  {
   "cell_type": "code",
   "execution_count": null,
   "metadata": {
    "collapsed": true
   },
   "outputs": [],
   "source": []
  }
 ],
 "metadata": {
  "anaconda-cloud": {},
  "kernelspec": {
   "display_name": "Python [default]",
   "language": "python",
   "name": "python3"
  },
  "language_info": {
   "codemirror_mode": {
    "name": "ipython",
    "version": 3
   },
   "file_extension": ".py",
   "mimetype": "text/x-python",
   "name": "python",
   "nbconvert_exporter": "python",
   "pygments_lexer": "ipython3",
   "version": "3.5.2"
  }
 },
 "nbformat": 4,
 "nbformat_minor": 1
}
